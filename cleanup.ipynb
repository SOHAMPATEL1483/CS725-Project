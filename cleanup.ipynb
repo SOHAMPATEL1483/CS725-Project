{
 "cells": [
  {
   "cell_type": "code",
   "execution_count": 4,
   "metadata": {},
   "outputs": [],
   "source": [
    "import pandas as pd\n",
    "import numpy as np"
   ]
  },
  {
   "cell_type": "code",
   "execution_count": 22,
   "metadata": {},
   "outputs": [],
   "source": [
    "movies_data = pd.read_csv(\"./data/movie_data.csv\", encoding='utf-8', engine='python')\n",
    "ratings_data = pd.read_csv(\"./data/ratings_export.csv\")"
   ]
  },
  {
   "cell_type": "code",
   "execution_count": 23,
   "metadata": {},
   "outputs": [
    {
     "data": {
      "text/plain": [
       "(11078167, 4)"
      ]
     },
     "execution_count": 23,
     "metadata": {},
     "output_type": "execute_result"
    }
   ],
   "source": [
    "ratings_data.shape"
   ]
  },
  {
   "cell_type": "code",
   "execution_count": 11,
   "metadata": {},
   "outputs": [
    {
     "data": {
      "text/plain": [
       "(285963, 19)"
      ]
     },
     "execution_count": 11,
     "metadata": {},
     "output_type": "execute_result"
    }
   ],
   "source": [
    "movies_data.shape"
   ]
  },
  {
   "cell_type": "code",
   "execution_count": 12,
   "metadata": {},
   "outputs": [
    {
     "data": {
      "text/plain": [
       "Index(['_id', 'genres', 'image_url', 'imdb_id', 'imdb_link', 'movie_id',\n",
       "       'movie_title', 'original_language', 'overview', 'popularity',\n",
       "       'production_countries', 'release_date', 'runtime', 'spoken_languages',\n",
       "       'tmdb_id', 'tmdb_link', 'vote_average', 'vote_count', 'year_released'],\n",
       "      dtype='object')"
      ]
     },
     "execution_count": 12,
     "metadata": {},
     "output_type": "execute_result"
    }
   ],
   "source": [
    "movies_data.columns"
   ]
  },
  {
   "cell_type": "code",
   "execution_count": 31,
   "metadata": {},
   "outputs": [
    {
     "data": {
      "text/plain": [
       "_id                         0\n",
       "genres                  10977\n",
       "image_url               21442\n",
       "imdb_id                 42065\n",
       "imdb_link               42049\n",
       "movie_id                  347\n",
       "movie_title              2510\n",
       "original_language       10977\n",
       "overview                24601\n",
       "popularity              11091\n",
       "production_countries    11109\n",
       "release_date            15009\n",
       "runtime                 16020\n",
       "spoken_languages        11205\n",
       "tmdb_id                  6160\n",
       "tmdb_link                6160\n",
       "vote_average            11205\n",
       "vote_count              11205\n",
       "year_released            8127\n",
       "dtype: int64"
      ]
     },
     "execution_count": 31,
     "metadata": {},
     "output_type": "execute_result"
    }
   ],
   "source": [
    "movies_data.isna().sum()"
   ]
  },
  {
   "cell_type": "code",
   "execution_count": 32,
   "metadata": {},
   "outputs": [],
   "source": [
    "movies_data.dropna(inplace=True)"
   ]
  },
  {
   "cell_type": "code",
   "execution_count": 33,
   "metadata": {},
   "outputs": [
    {
     "data": {
      "text/plain": [
       "_id                     0\n",
       "genres                  0\n",
       "image_url               0\n",
       "imdb_id                 0\n",
       "imdb_link               0\n",
       "movie_id                0\n",
       "movie_title             0\n",
       "original_language       0\n",
       "overview                0\n",
       "popularity              0\n",
       "production_countries    0\n",
       "release_date            0\n",
       "runtime                 0\n",
       "spoken_languages        0\n",
       "tmdb_id                 0\n",
       "tmdb_link               0\n",
       "vote_average            0\n",
       "vote_count              0\n",
       "year_released           0\n",
       "dtype: int64"
      ]
     },
     "execution_count": 33,
     "metadata": {},
     "output_type": "execute_result"
    }
   ],
   "source": [
    "movies_data.isna().sum()"
   ]
  },
  {
   "cell_type": "code",
   "execution_count": 34,
   "metadata": {},
   "outputs": [
    {
     "data": {
      "text/plain": [
       "(214316, 19)"
      ]
     },
     "execution_count": 34,
     "metadata": {},
     "output_type": "execute_result"
    }
   ],
   "source": [
    "movies_data.shape"
   ]
  },
  {
   "cell_type": "code",
   "execution_count": 35,
   "metadata": {},
   "outputs": [
    {
     "name": "stdout",
     "output_type": "stream",
     "text": [
      "<class 'pandas.core.frame.DataFrame'>\n",
      "Index: 214316 entries, 1 to 285955\n",
      "Data columns (total 19 columns):\n",
      " #   Column                Non-Null Count   Dtype  \n",
      "---  ------                --------------   -----  \n",
      " 0   _id                   214316 non-null  object \n",
      " 1   genres                214316 non-null  object \n",
      " 2   image_url             214316 non-null  object \n",
      " 3   imdb_id               214316 non-null  object \n",
      " 4   imdb_link             214316 non-null  object \n",
      " 5   movie_id              214316 non-null  object \n",
      " 6   movie_title           214316 non-null  object \n",
      " 7   original_language     214316 non-null  object \n",
      " 8   overview              214316 non-null  object \n",
      " 9   popularity            214316 non-null  float64\n",
      " 10  production_countries  214316 non-null  object \n",
      " 11  release_date          214316 non-null  object \n",
      " 12  runtime               214316 non-null  float64\n",
      " 13  spoken_languages      214316 non-null  object \n",
      " 14  tmdb_id               214316 non-null  float64\n",
      " 15  tmdb_link             214316 non-null  object \n",
      " 16  vote_average          214316 non-null  float64\n",
      " 17  vote_count            214316 non-null  float64\n",
      " 18  year_released         214316 non-null  float64\n",
      "dtypes: float64(6), object(13)\n",
      "memory usage: 32.7+ MB\n"
     ]
    }
   ],
   "source": [
    "movies_data.info()"
   ]
  },
  {
   "cell_type": "code",
   "execution_count": 36,
   "metadata": {},
   "outputs": [
    {
     "data": {
      "text/plain": [
       "(5000, 19)"
      ]
     },
     "execution_count": 36,
     "metadata": {},
     "output_type": "execute_result"
    }
   ],
   "source": [
    "top_movies = movies_data.sort_values(by='popularity', ascending=False).head(5000)\n",
    "top_movies.shape"
   ]
  },
  {
   "cell_type": "code",
   "execution_count": 37,
   "metadata": {},
   "outputs": [
    {
     "name": "stdout",
     "output_type": "stream",
     "text": [
      "(4249150, 4)\n",
      "5000\n"
     ]
    }
   ],
   "source": [
    "top_movieIds = top_movies['movie_id'].unique()\n",
    "\n",
    "df_ratings_filtered = ratings_data[ratings_data['movie_id'].isin(top_movieIds)]\n",
    "\n",
    "print(df_ratings_filtered.shape)\n",
    "print(df_ratings_filtered[\"movie_id\"].nunique())"
   ]
  },
  {
   "cell_type": "code",
   "execution_count": 38,
   "metadata": {},
   "outputs": [
    {
     "data": {
      "text/plain": [
       "(389798, 4)"
      ]
     },
     "execution_count": 38,
     "metadata": {},
     "output_type": "execute_result"
    }
   ],
   "source": [
    "df_ratings_filtered = df_ratings_filtered.groupby(\"movie_id\").head(100)\n",
    "df_ratings_filtered.shape"
   ]
  },
  {
   "cell_type": "code",
   "execution_count": 39,
   "metadata": {},
   "outputs": [
    {
     "data": {
      "text/plain": [
       "5000"
      ]
     },
     "execution_count": 39,
     "metadata": {},
     "output_type": "execute_result"
    }
   ],
   "source": [
    "df_ratings_filtered[\"movie_id\"].nunique()"
   ]
  },
  {
   "cell_type": "code",
   "execution_count": null,
   "metadata": {},
   "outputs": [
    {
     "name": "stdout",
     "output_type": "stream",
     "text": [
      "All movies in top_movies have ratings: True\n",
      "All ratings have corresponding movies in top_movies: True\n"
     ]
    }
   ],
   "source": [
    "top_movies_ids = set(top_movies['movie_id'])\n",
    "ratings_ids = set(df_ratings_filtered['movie_id'])\n",
    "\n",
    "print(top_movies_ids.__len__)\n",
    "ratings_ids.__len__\n",
    "# Check if all movie_ids in top_movies are in df_ratings_filtered\n",
    "all_top_in_ratings = top_movies_ids.issubset(ratings_ids)\n",
    "print(f\"All movies in top_movies have ratings: {all_top_in_ratings}\")\n",
    "\n",
    "# Check if all movie_ids in df_ratings_filtered are in top_movies\n",
    "all_ratings_in_top = ratings_ids.issubset(top_movies_ids)\n",
    "print(f\"All ratings have corresponding movies in top_movies: {all_ratings_in_top}\")"
   ]
  },
  {
   "cell_type": "code",
   "execution_count": 42,
   "metadata": {},
   "outputs": [],
   "source": [
    "top_movies.to_csv(\"./final/movies.csv\", index=False)\n",
    "df_ratings_filtered.to_csv(\"./final/ratings.csv\", index=False)"
   ]
  }
 ],
 "metadata": {
  "kernelspec": {
   "display_name": "Python 3",
   "language": "python",
   "name": "python3"
  },
  "language_info": {
   "codemirror_mode": {
    "name": "ipython",
    "version": 3
   },
   "file_extension": ".py",
   "mimetype": "text/x-python",
   "name": "python",
   "nbconvert_exporter": "python",
   "pygments_lexer": "ipython3",
   "version": "3.12.7"
  }
 },
 "nbformat": 4,
 "nbformat_minor": 2
}
