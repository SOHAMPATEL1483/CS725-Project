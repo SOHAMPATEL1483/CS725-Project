{
 "cells": [
  {
   "cell_type": "code",
   "execution_count": 1,
   "metadata": {},
   "outputs": [],
   "source": [
    "import pandas as pd\n",
    "from sklearn.metrics.pairwise import cosine_similarity\n",
    "import numpy as np"
   ]
  },
  {
   "cell_type": "code",
   "execution_count": null,
   "metadata": {},
   "outputs": [],
   "source": [
    "ratings_data = pd.read_csv('./data/ratings.csv')"
   ]
  },
  {
   "cell_type": "code",
   "execution_count": 3,
   "metadata": {},
   "outputs": [
    {
     "data": {
      "text/plain": [
       "Index(['_id', 'movie_id', 'rating_val', 'user_id'], dtype='object')"
      ]
     },
     "execution_count": 3,
     "metadata": {},
     "output_type": "execute_result"
    }
   ],
   "source": [
    "ratings_data.columns"
   ]
  },
  {
   "cell_type": "code",
   "execution_count": null,
   "metadata": {},
   "outputs": [
    {
     "data": {
      "text/plain": [
       "(5000, 5000)"
      ]
     },
     "execution_count": 13,
     "metadata": {},
     "output_type": "execute_result"
    }
   ],
   "source": [
    "user_item_matrix = ratings_data.pivot_table(index='user_id', columns='movie_id', values='rating_val')\n",
    "\n",
    "# Fill missing values with 0 (alternatively, NaN could be used for a more sophisticated approach)\n",
    "user_item_matrix.fillna(0, inplace=True)\n",
    "\n",
    "# Calculate item similarity using cosine similarity\n",
    "item_similarity = cosine_similarity(user_item_matrix.T)  # Transpose to get item-based similarity\n",
    "item_similarity_df = pd.DataFrame(item_similarity, index=user_item_matrix.columns, columns=user_item_matrix.columns)\n",
    "item_similarity_df.shape"
   ]
  },
  {
   "cell_type": "code",
   "execution_count": 8,
   "metadata": {},
   "outputs": [],
   "source": [
    "def predict_ratings(user_id, top_n=10):\n",
    "    user_ratings = user_item_matrix.loc[user_id]\n",
    "    rated_items = user_ratings[user_ratings > 0].index\n",
    "    predictions = {}\n",
    "\n",
    "    for item in user_item_matrix.columns:\n",
    "        if item not in rated_items:  # Predict only for unrated items\n",
    "            sim_scores = item_similarity_df[item][rated_items]\n",
    "            user_rated_scores = user_ratings[rated_items]\n",
    "            predicted_rating = np.dot(sim_scores, user_rated_scores) / sim_scores.sum() if sim_scores.sum() != 0 else 0\n",
    "            predictions[item] = predicted_rating\n",
    "    \n",
    "    # Sort the predictions and return the top_n items\n",
    "    top_predictions = sorted(predictions.items(), key=lambda x: x[1], reverse=True)[:top_n]\n",
    "    return top_predictions"
   ]
  },
  {
   "cell_type": "code",
   "execution_count": 6,
   "metadata": {},
   "outputs": [
    {
     "data": {
      "text/html": [
       "<div>\n",
       "<style scoped>\n",
       "    .dataframe tbody tr th:only-of-type {\n",
       "        vertical-align: middle;\n",
       "    }\n",
       "\n",
       "    .dataframe tbody tr th {\n",
       "        vertical-align: top;\n",
       "    }\n",
       "\n",
       "    .dataframe thead th {\n",
       "        text-align: right;\n",
       "    }\n",
       "</style>\n",
       "<table border=\"1\" class=\"dataframe\">\n",
       "  <thead>\n",
       "    <tr style=\"text-align: right;\">\n",
       "      <th></th>\n",
       "      <th>_id</th>\n",
       "      <th>movie_id</th>\n",
       "      <th>rating_val</th>\n",
       "      <th>user_id</th>\n",
       "    </tr>\n",
       "  </thead>\n",
       "  <tbody>\n",
       "    <tr>\n",
       "      <th>0</th>\n",
       "      <td>5fc57c5d6758f6963451a063</td>\n",
       "      <td>loving-2016</td>\n",
       "      <td>7</td>\n",
       "      <td>deathproof</td>\n",
       "    </tr>\n",
       "    <tr>\n",
       "      <th>1</th>\n",
       "      <td>5fc57c5d6758f6963451a172</td>\n",
       "      <td>the-social-network</td>\n",
       "      <td>10</td>\n",
       "      <td>deathproof</td>\n",
       "    </tr>\n",
       "    <tr>\n",
       "      <th>2</th>\n",
       "      <td>5fc57c5d6758f6963451a0a0</td>\n",
       "      <td>saw-iii</td>\n",
       "      <td>7</td>\n",
       "      <td>deathproof</td>\n",
       "    </tr>\n",
       "    <tr>\n",
       "      <th>3</th>\n",
       "      <td>5fc57c5d6758f6963451a0e0</td>\n",
       "      <td>the-girl-on-the-train-2016</td>\n",
       "      <td>8</td>\n",
       "      <td>deathproof</td>\n",
       "    </tr>\n",
       "    <tr>\n",
       "      <th>4</th>\n",
       "      <td>5fc57c5d6758f6963451a11d</td>\n",
       "      <td>yes-man</td>\n",
       "      <td>6</td>\n",
       "      <td>deathproof</td>\n",
       "    </tr>\n",
       "  </tbody>\n",
       "</table>\n",
       "</div>"
      ],
      "text/plain": [
       "                        _id                    movie_id  rating_val  \\\n",
       "0  5fc57c5d6758f6963451a063                 loving-2016           7   \n",
       "1  5fc57c5d6758f6963451a172          the-social-network          10   \n",
       "2  5fc57c5d6758f6963451a0a0                     saw-iii           7   \n",
       "3  5fc57c5d6758f6963451a0e0  the-girl-on-the-train-2016           8   \n",
       "4  5fc57c5d6758f6963451a11d                     yes-man           6   \n",
       "\n",
       "      user_id  \n",
       "0  deathproof  \n",
       "1  deathproof  \n",
       "2  deathproof  \n",
       "3  deathproof  \n",
       "4  deathproof  "
      ]
     },
     "execution_count": 6,
     "metadata": {},
     "output_type": "execute_result"
    }
   ],
   "source": [
    "ratings_data.head()"
   ]
  },
  {
   "cell_type": "code",
   "execution_count": 12,
   "metadata": {},
   "outputs": [
    {
     "name": "stdout",
     "output_type": "stream",
     "text": [
      "el-mesero -- 9.0\n",
      "talk-sex -- 7.59\n",
      "christmas-at-the-ranch -- 7.57\n",
      "crazy-fist -- 7.57\n",
      "the-moment-you-fall-in-love -- 7.46\n",
      "ive-always-liked-you -- 7.3\n",
      "pursuit-2022 -- 7.11\n",
      "midsommar-directors-cut -- 7.0\n",
      "the-institute-2022 -- 7.0\n",
      "the-kashmir-files -- 7.0\n"
     ]
    }
   ],
   "source": [
    "user_id = \"deathproof\"\n",
    "recommendations = predict_ratings(user_id)\n",
    "for (x,y) in recommendations:\n",
    "    print(f\"{x} -- {y.round(2)}\")"
   ]
  }
 ],
 "metadata": {
  "kernelspec": {
   "display_name": "Python 3",
   "language": "python",
   "name": "python3"
  },
  "language_info": {
   "codemirror_mode": {
    "name": "ipython",
    "version": 3
   },
   "file_extension": ".py",
   "mimetype": "text/x-python",
   "name": "python",
   "nbconvert_exporter": "python",
   "pygments_lexer": "ipython3",
   "version": "3.12.7"
  }
 },
 "nbformat": 4,
 "nbformat_minor": 2
}
