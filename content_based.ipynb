{
 "cells": [
  {
   "cell_type": "code",
   "execution_count": 303,
   "metadata": {},
   "outputs": [],
   "source": [
    "import pandas as pd\n",
    "from sklearn.feature_extraction.text import TfidfVectorizer\n",
    "from sklearn.metrics.pairwise import linear_kernel\n",
    "from ast import literal_eval\n",
    "from sklearn.feature_extraction.text import CountVectorizer \n",
    "from sklearn.metrics.pairwise import cosine_similarity"
   ]
  },
  {
   "cell_type": "code",
   "execution_count": null,
   "metadata": {},
   "outputs": [],
   "source": [
    "movies_data = pd.read_csv(\"./data/movies.csv\")"
   ]
  },
  {
   "cell_type": "code",
   "execution_count": 305,
   "metadata": {},
   "outputs": [
    {
     "data": {
      "text/plain": [
       "Index(['_id', 'genres', 'image_url', 'imdb_id', 'imdb_link', 'movie_id',\n",
       "       'movie_title', 'original_language', 'overview', 'popularity',\n",
       "       'production_countries', 'release_date', 'runtime', 'spoken_languages',\n",
       "       'tmdb_id', 'tmdb_link', 'vote_average', 'vote_count', 'year_released'],\n",
       "      dtype='object')"
      ]
     },
     "execution_count": 305,
     "metadata": {},
     "output_type": "execute_result"
    }
   ],
   "source": [
    "movies_data.columns"
   ]
  },
  {
   "cell_type": "code",
   "execution_count": 306,
   "metadata": {},
   "outputs": [
    {
     "data": {
      "text/plain": [
       "(30000, 19)"
      ]
     },
     "execution_count": 306,
     "metadata": {},
     "output_type": "execute_result"
    }
   ],
   "source": [
    "movies_data.shape"
   ]
  },
  {
   "cell_type": "code",
   "execution_count": 307,
   "metadata": {},
   "outputs": [
    {
     "data": {
      "text/plain": [
       "7651"
      ]
     },
     "execution_count": 307,
     "metadata": {},
     "output_type": "execute_result"
    }
   ],
   "source": [
    "movies_data[\"movie_id\"].nunique()"
   ]
  },
  {
   "cell_type": "code",
   "execution_count": 308,
   "metadata": {},
   "outputs": [],
   "source": [
    "dataset = movies_data.drop_duplicates(subset='movie_id', keep='first')"
   ]
  },
  {
   "cell_type": "code",
   "execution_count": 309,
   "metadata": {},
   "outputs": [
    {
     "data": {
      "text/plain": [
       "(7651, 19)"
      ]
     },
     "execution_count": 309,
     "metadata": {},
     "output_type": "execute_result"
    }
   ],
   "source": [
    "dataset.shape"
   ]
  },
  {
   "cell_type": "code",
   "execution_count": 310,
   "metadata": {},
   "outputs": [
    {
     "data": {
      "text/plain": [
       "_id                       0\n",
       "genres                  238\n",
       "image_url               433\n",
       "imdb_id                 906\n",
       "imdb_link               906\n",
       "movie_id                  0\n",
       "movie_title              49\n",
       "original_language       238\n",
       "overview                485\n",
       "popularity              239\n",
       "production_countries    239\n",
       "release_date            295\n",
       "runtime                 322\n",
       "spoken_languages        239\n",
       "tmdb_id                 115\n",
       "tmdb_link               115\n",
       "vote_average            239\n",
       "vote_count              239\n",
       "year_released           130\n",
       "dtype: int64"
      ]
     },
     "execution_count": 310,
     "metadata": {},
     "output_type": "execute_result"
    }
   ],
   "source": [
    "dataset.isna().sum()"
   ]
  },
  {
   "cell_type": "code",
   "execution_count": 311,
   "metadata": {},
   "outputs": [
    {
     "data": {
      "text/plain": [
       "7651"
      ]
     },
     "execution_count": 311,
     "metadata": {},
     "output_type": "execute_result"
    }
   ],
   "source": [
    "dataset[\"movie_id\"].nunique()"
   ]
  },
  {
   "cell_type": "code",
   "execution_count": 312,
   "metadata": {},
   "outputs": [
    {
     "data": {
      "text/plain": [
       "(7651, 19)"
      ]
     },
     "execution_count": 312,
     "metadata": {},
     "output_type": "execute_result"
    }
   ],
   "source": [
    "dataset.shape"
   ]
  },
  {
   "cell_type": "code",
   "execution_count": 313,
   "metadata": {},
   "outputs": [
    {
     "data": {
      "text/plain": [
       "_id                       0\n",
       "genres                  238\n",
       "image_url               433\n",
       "imdb_id                 906\n",
       "imdb_link               906\n",
       "movie_id                  0\n",
       "movie_title              49\n",
       "original_language       238\n",
       "overview                485\n",
       "popularity              239\n",
       "production_countries    239\n",
       "release_date            295\n",
       "runtime                 322\n",
       "spoken_languages        239\n",
       "tmdb_id                 115\n",
       "tmdb_link               115\n",
       "vote_average            239\n",
       "vote_count              239\n",
       "year_released           130\n",
       "dtype: int64"
      ]
     },
     "execution_count": 313,
     "metadata": {},
     "output_type": "execute_result"
    }
   ],
   "source": [
    "dataset.isna().sum()"
   ]
  },
  {
   "cell_type": "code",
   "execution_count": 314,
   "metadata": {},
   "outputs": [
    {
     "data": {
      "text/html": [
       "<div>\n",
       "<style scoped>\n",
       "    .dataframe tbody tr th:only-of-type {\n",
       "        vertical-align: middle;\n",
       "    }\n",
       "\n",
       "    .dataframe tbody tr th {\n",
       "        vertical-align: top;\n",
       "    }\n",
       "\n",
       "    .dataframe thead th {\n",
       "        text-align: right;\n",
       "    }\n",
       "</style>\n",
       "<table border=\"1\" class=\"dataframe\">\n",
       "  <thead>\n",
       "    <tr style=\"text-align: right;\">\n",
       "      <th></th>\n",
       "      <th>_id</th>\n",
       "      <th>genres</th>\n",
       "      <th>image_url</th>\n",
       "      <th>imdb_id</th>\n",
       "      <th>imdb_link</th>\n",
       "      <th>movie_id</th>\n",
       "      <th>movie_title</th>\n",
       "      <th>original_language</th>\n",
       "      <th>overview</th>\n",
       "      <th>popularity</th>\n",
       "      <th>production_countries</th>\n",
       "      <th>release_date</th>\n",
       "      <th>runtime</th>\n",
       "      <th>spoken_languages</th>\n",
       "      <th>tmdb_id</th>\n",
       "      <th>tmdb_link</th>\n",
       "      <th>vote_average</th>\n",
       "      <th>vote_count</th>\n",
       "      <th>year_released</th>\n",
       "    </tr>\n",
       "  </thead>\n",
       "  <tbody>\n",
       "    <tr>\n",
       "      <th>0</th>\n",
       "      <td>5fc85f606758f69634496fd3</td>\n",
       "      <td>[\"Music\",\"Animation\"]</td>\n",
       "      <td>film-poster/4/6/4/4/4/0/464440-football-freaks...</td>\n",
       "      <td>NaN</td>\n",
       "      <td>NaN</td>\n",
       "      <td>football-freaks</td>\n",
       "      <td>Football Freaks</td>\n",
       "      <td>en</td>\n",
       "      <td>Football crazy, football mad. Don’t watch this...</td>\n",
       "      <td>0.600</td>\n",
       "      <td>[\"United Kingdom\"]</td>\n",
       "      <td>1971-12-05</td>\n",
       "      <td>0.0</td>\n",
       "      <td>[]</td>\n",
       "      <td>535272.0</td>\n",
       "      <td>https://www.themoviedb.org/movie/535272/</td>\n",
       "      <td>0.0</td>\n",
       "      <td>0.0</td>\n",
       "      <td>1971.0</td>\n",
       "    </tr>\n",
       "    <tr>\n",
       "      <th>1</th>\n",
       "      <td>5fc85ff26758f696344ace0c</td>\n",
       "      <td>[]</td>\n",
       "      <td>film-poster/2/4/5/5/0/0/245500-aftermath-0-230...</td>\n",
       "      <td>tt0586129</td>\n",
       "      <td>http://www.imdb.com/title/tt0586129/maindetails</td>\n",
       "      <td>aftermath-1960</td>\n",
       "      <td>Aftermath</td>\n",
       "      <td>en</td>\n",
       "      <td>Aftermath was the pilot for an unsold TV serie...</td>\n",
       "      <td>0.600</td>\n",
       "      <td>[]</td>\n",
       "      <td>1960-04-17</td>\n",
       "      <td>22.0</td>\n",
       "      <td>[]</td>\n",
       "      <td>318331.0</td>\n",
       "      <td>https://www.themoviedb.org/movie/318331/</td>\n",
       "      <td>8.0</td>\n",
       "      <td>1.0</td>\n",
       "      <td>1960.0</td>\n",
       "    </tr>\n",
       "    <tr>\n",
       "      <th>2</th>\n",
       "      <td>5fc85f606758f69634496fcd</td>\n",
       "      <td>[\"Drama\"]</td>\n",
       "      <td>film-poster/9/3/3/1/8/93318-where-chimneys-are...</td>\n",
       "      <td>tt0045731</td>\n",
       "      <td>http://www.imdb.com/title/tt0045731/maindetails</td>\n",
       "      <td>where-chimneys-are-seen</td>\n",
       "      <td>Where Chimneys Are Seen</td>\n",
       "      <td>ja</td>\n",
       "      <td>Gosho’s most celebrated film both in Japan and...</td>\n",
       "      <td>1.568</td>\n",
       "      <td>[\"Japan\"]</td>\n",
       "      <td>1953-03-05</td>\n",
       "      <td>108.0</td>\n",
       "      <td>[\"日本語\"]</td>\n",
       "      <td>117779.0</td>\n",
       "      <td>https://www.themoviedb.org/movie/117779/</td>\n",
       "      <td>6.6</td>\n",
       "      <td>10.0</td>\n",
       "      <td>1953.0</td>\n",
       "    </tr>\n",
       "    <tr>\n",
       "      <th>3</th>\n",
       "      <td>5fc85f606758f69634496fd1</td>\n",
       "      <td>[\"Drama\"]</td>\n",
       "      <td>NaN</td>\n",
       "      <td>tt0187327</td>\n",
       "      <td>http://www.imdb.com/title/tt0187327/maindetails</td>\n",
       "      <td>the-musicians-daughter</td>\n",
       "      <td>The Musician's Daughter</td>\n",
       "      <td>en</td>\n",
       "      <td>Carl Wagner's good wife was dying. His heart b...</td>\n",
       "      <td>0.600</td>\n",
       "      <td>[\"United States of America\"]</td>\n",
       "      <td>1911-12-12</td>\n",
       "      <td>15.0</td>\n",
       "      <td>[]</td>\n",
       "      <td>560377.0</td>\n",
       "      <td>https://www.themoviedb.org/movie/560377/</td>\n",
       "      <td>0.0</td>\n",
       "      <td>0.0</td>\n",
       "      <td>1911.0</td>\n",
       "    </tr>\n",
       "    <tr>\n",
       "      <th>4</th>\n",
       "      <td>5fc85f606758f69634496fd4</td>\n",
       "      <td>[\"Documentary\"]</td>\n",
       "      <td>film-poster/4/5/4/6/0/3/454603-50-years-of-fab...</td>\n",
       "      <td>tt4769914</td>\n",
       "      <td>http://www.imdb.com/title/tt4769914/maindetails</td>\n",
       "      <td>50-years-of-fabulous</td>\n",
       "      <td>50 Years of Fabulous</td>\n",
       "      <td>en</td>\n",
       "      <td>50 Years of Fabulous recounts the rich history...</td>\n",
       "      <td>0.600</td>\n",
       "      <td>[]</td>\n",
       "      <td>2018-05-17</td>\n",
       "      <td>75.0</td>\n",
       "      <td>[]</td>\n",
       "      <td>525187.0</td>\n",
       "      <td>https://www.themoviedb.org/movie/525187/</td>\n",
       "      <td>0.0</td>\n",
       "      <td>0.0</td>\n",
       "      <td>2018.0</td>\n",
       "    </tr>\n",
       "  </tbody>\n",
       "</table>\n",
       "</div>"
      ],
      "text/plain": [
       "                        _id                 genres  \\\n",
       "0  5fc85f606758f69634496fd3  [\"Music\",\"Animation\"]   \n",
       "1  5fc85ff26758f696344ace0c                     []   \n",
       "2  5fc85f606758f69634496fcd              [\"Drama\"]   \n",
       "3  5fc85f606758f69634496fd1              [\"Drama\"]   \n",
       "4  5fc85f606758f69634496fd4        [\"Documentary\"]   \n",
       "\n",
       "                                           image_url    imdb_id  \\\n",
       "0  film-poster/4/6/4/4/4/0/464440-football-freaks...        NaN   \n",
       "1  film-poster/2/4/5/5/0/0/245500-aftermath-0-230...  tt0586129   \n",
       "2  film-poster/9/3/3/1/8/93318-where-chimneys-are...  tt0045731   \n",
       "3                                                NaN  tt0187327   \n",
       "4  film-poster/4/5/4/6/0/3/454603-50-years-of-fab...  tt4769914   \n",
       "\n",
       "                                         imdb_link                 movie_id  \\\n",
       "0                                              NaN          football-freaks   \n",
       "1  http://www.imdb.com/title/tt0586129/maindetails           aftermath-1960   \n",
       "2  http://www.imdb.com/title/tt0045731/maindetails  where-chimneys-are-seen   \n",
       "3  http://www.imdb.com/title/tt0187327/maindetails   the-musicians-daughter   \n",
       "4  http://www.imdb.com/title/tt4769914/maindetails     50-years-of-fabulous   \n",
       "\n",
       "               movie_title original_language  \\\n",
       "0          Football Freaks                en   \n",
       "1                Aftermath                en   \n",
       "2  Where Chimneys Are Seen                ja   \n",
       "3  The Musician's Daughter                en   \n",
       "4     50 Years of Fabulous                en   \n",
       "\n",
       "                                            overview  popularity  \\\n",
       "0  Football crazy, football mad. Don’t watch this...       0.600   \n",
       "1  Aftermath was the pilot for an unsold TV serie...       0.600   \n",
       "2  Gosho’s most celebrated film both in Japan and...       1.568   \n",
       "3  Carl Wagner's good wife was dying. His heart b...       0.600   \n",
       "4  50 Years of Fabulous recounts the rich history...       0.600   \n",
       "\n",
       "           production_countries release_date  runtime spoken_languages  \\\n",
       "0            [\"United Kingdom\"]   1971-12-05      0.0               []   \n",
       "1                            []   1960-04-17     22.0               []   \n",
       "2                     [\"Japan\"]   1953-03-05    108.0          [\"日本語\"]   \n",
       "3  [\"United States of America\"]   1911-12-12     15.0               []   \n",
       "4                            []   2018-05-17     75.0               []   \n",
       "\n",
       "    tmdb_id                                 tmdb_link  vote_average  \\\n",
       "0  535272.0  https://www.themoviedb.org/movie/535272/           0.0   \n",
       "1  318331.0  https://www.themoviedb.org/movie/318331/           8.0   \n",
       "2  117779.0  https://www.themoviedb.org/movie/117779/           6.6   \n",
       "3  560377.0  https://www.themoviedb.org/movie/560377/           0.0   \n",
       "4  525187.0  https://www.themoviedb.org/movie/525187/           0.0   \n",
       "\n",
       "   vote_count  year_released  \n",
       "0         0.0         1971.0  \n",
       "1         1.0         1960.0  \n",
       "2        10.0         1953.0  \n",
       "3         0.0         1911.0  \n",
       "4         0.0         2018.0  "
      ]
     },
     "execution_count": 314,
     "metadata": {},
     "output_type": "execute_result"
    }
   ],
   "source": [
    "dataset.head()"
   ]
  },
  {
   "cell_type": "code",
   "execution_count": 315,
   "metadata": {},
   "outputs": [
    {
     "data": {
      "text/plain": [
       "_id                      object\n",
       "genres                   object\n",
       "image_url                object\n",
       "imdb_id                  object\n",
       "imdb_link                object\n",
       "movie_id                 object\n",
       "movie_title              object\n",
       "original_language        object\n",
       "overview                 object\n",
       "popularity              float64\n",
       "production_countries     object\n",
       "release_date             object\n",
       "runtime                 float64\n",
       "spoken_languages         object\n",
       "tmdb_id                 float64\n",
       "tmdb_link                object\n",
       "vote_average            float64\n",
       "vote_count              float64\n",
       "year_released           float64\n",
       "dtype: object"
      ]
     },
     "execution_count": 315,
     "metadata": {},
     "output_type": "execute_result"
    }
   ],
   "source": [
    "dataset.dtypes"
   ]
  },
  {
   "cell_type": "code",
   "execution_count": null,
   "metadata": {},
   "outputs": [],
   "source": [
    "def safe_literal_eval(x):\n",
    "    try:\n",
    "        return literal_eval(x)\n",
    "    except (ValueError, SyntaxError):\n",
    "        return []  # Return an empty list for malformed entries\n",
    "\n",
    "dataset = dataset.dropna(subset=['genres']).copy()"
   ]
  },
  {
   "cell_type": "code",
   "execution_count": null,
   "metadata": {},
   "outputs": [
    {
     "name": "stdout",
     "output_type": "stream",
     "text": [
      "               movie_title                                               soup\n",
      "0          Football Freaks   Football Freaks [\"Music\",\"Animation\"] Footbal...\n",
      "1                Aftermath   Aftermath [] Aftermath was the pilot for an u...\n",
      "2  Where Chimneys Are Seen   Where Chimneys Are Seen [\"Drama\"] Gosho’s mos...\n",
      "3  The Musician's Daughter   The Musician's Daughter [\"Drama\"] Carl Wagner...\n",
      "4     50 Years of Fabulous   50 Years of Fabulous [\"Documentary\"] 50 Years...\n"
     ]
    }
   ],
   "source": [
    "def create_soup(x):\n",
    "    movie_title = str(x[\"movie_title\"]) if pd.notna(x[\"movie_title\"]) else \"\"\n",
    "    genres = ' '.join(str(genre) for genre in x[\"genres\"]) if isinstance(x[\"genres\"], list) else \"\"\n",
    "    overview = str(x[\"overview\"]) if pd.notna(x[\"overview\"]) else \"\"\n",
    "    \n",
    "    return \" \" + movie_title + \" \" + genres + \" \" + overview\n",
    "\n",
    "dataset[\"soup\"] = dataset.apply(create_soup, axis=1)\n",
    "print(dataset[[\"movie_title\", \"soup\"]].head())"
   ]
  },
  {
   "cell_type": "code",
   "execution_count": 318,
   "metadata": {},
   "outputs": [
    {
     "data": {
      "text/plain": [
       "(7413, 20)"
      ]
     },
     "execution_count": 318,
     "metadata": {},
     "output_type": "execute_result"
    }
   ],
   "source": [
    "dataset.shape"
   ]
  },
  {
   "cell_type": "code",
   "execution_count": null,
   "metadata": {},
   "outputs": [],
   "source": [
    "vectorizer = TfidfVectorizer(stop_words='english')\n",
    "matrix = vectorizer.fit_transform(dataset[\"soup\"])"
   ]
  },
  {
   "cell_type": "code",
   "execution_count": 320,
   "metadata": {},
   "outputs": [],
   "source": [
    "cosine_sim = cosine_similarity(matrix, matrix)"
   ]
  },
  {
   "cell_type": "code",
   "execution_count": 321,
   "metadata": {},
   "outputs": [],
   "source": [
    "def recommend_movies(title, cosine_sim=cosine_sim, df=dataset):\n",
    "    idx = df.index[df['movie_title'] == title].tolist()[0]\n",
    "    sim_scores = list(enumerate(cosine_sim[idx]))\n",
    "    sim_scores = sorted(sim_scores, key=lambda x: x[1], reverse=True)\n",
    "    sim_scores = sim_scores[1:]\n",
    "    movie_indices = [i[0] for i in sim_scores]\n",
    "    recommendations = df.iloc[movie_indices][:25][['movie_title', 'overview']]\n",
    "    recommendations['similarity'] = [score[1] for score in sim_scores][:25]  # Add similarity score\n",
    "    return recommendations"
   ]
  },
  {
   "cell_type": "code",
   "execution_count": 322,
   "metadata": {},
   "outputs": [
    {
     "data": {
      "text/html": [
       "<div>\n",
       "<style scoped>\n",
       "    .dataframe tbody tr th:only-of-type {\n",
       "        vertical-align: middle;\n",
       "    }\n",
       "\n",
       "    .dataframe tbody tr th {\n",
       "        vertical-align: top;\n",
       "    }\n",
       "\n",
       "    .dataframe thead th {\n",
       "        text-align: right;\n",
       "    }\n",
       "</style>\n",
       "<table border=\"1\" class=\"dataframe\">\n",
       "  <thead>\n",
       "    <tr style=\"text-align: right;\">\n",
       "      <th></th>\n",
       "      <th>movie_title</th>\n",
       "      <th>overview</th>\n",
       "      <th>similarity</th>\n",
       "    </tr>\n",
       "  </thead>\n",
       "  <tbody>\n",
       "    <tr>\n",
       "      <th>297</th>\n",
       "      <td>Fat</td>\n",
       "      <td>Ken is a man that won't change his ways. Addic...</td>\n",
       "      <td>0.174713</td>\n",
       "    </tr>\n",
       "    <tr>\n",
       "      <th>3683</th>\n",
       "      <td>Our Daily Bread</td>\n",
       "      <td>Welcome to the world of industrial food produc...</td>\n",
       "      <td>0.170858</td>\n",
       "    </tr>\n",
       "    <tr>\n",
       "      <th>6965</th>\n",
       "      <td>10 Min</td>\n",
       "      <td>NaN</td>\n",
       "      <td>0.170105</td>\n",
       "    </tr>\n",
       "    <tr>\n",
       "      <th>2766</th>\n",
       "      <td>Mixed Doubles</td>\n",
       "      <td>To get revenge on her ex-boyfriend and to help...</td>\n",
       "      <td>0.158116</td>\n",
       "    </tr>\n",
       "    <tr>\n",
       "      <th>3055</th>\n",
       "      <td>I Pay for Your Story</td>\n",
       "      <td>Lech Kowalski returns to Utica (New York), whe...</td>\n",
       "      <td>0.154484</td>\n",
       "    </tr>\n",
       "    <tr>\n",
       "      <th>2193</th>\n",
       "      <td>Suffer Little Children</td>\n",
       "      <td>This short documentary is part of the Canada C...</td>\n",
       "      <td>0.151112</td>\n",
       "    </tr>\n",
       "    <tr>\n",
       "      <th>4549</th>\n",
       "      <td>I'll Be Around</td>\n",
       "      <td>A 30-something single mother must find adoptiv...</td>\n",
       "      <td>0.150154</td>\n",
       "    </tr>\n",
       "    <tr>\n",
       "      <th>6970</th>\n",
       "      <td>The Fighting 69½th</td>\n",
       "      <td>Battalions of red and black ants go to war ove...</td>\n",
       "      <td>0.145151</td>\n",
       "    </tr>\n",
       "    <tr>\n",
       "      <th>2435</th>\n",
       "      <td>Now You Know</td>\n",
       "      <td>An uninhibited 10 year old girl discovers hars...</td>\n",
       "      <td>0.141774</td>\n",
       "    </tr>\n",
       "    <tr>\n",
       "      <th>1838</th>\n",
       "      <td>Table for Three</td>\n",
       "      <td>A suddenly single guy invites what he thinks i...</td>\n",
       "      <td>0.141770</td>\n",
       "    </tr>\n",
       "    <tr>\n",
       "      <th>4480</th>\n",
       "      <td>On Hold</td>\n",
       "      <td>A short film musical about the choice between ...</td>\n",
       "      <td>0.140267</td>\n",
       "    </tr>\n",
       "    <tr>\n",
       "      <th>3208</th>\n",
       "      <td>We Die Young</td>\n",
       "      <td>Lucas, a 14-year-old boy inducted into the gan...</td>\n",
       "      <td>0.137315</td>\n",
       "    </tr>\n",
       "    <tr>\n",
       "      <th>2811</th>\n",
       "      <td>Today's Special</td>\n",
       "      <td>Young Manhattan chef Samir rediscovers his her...</td>\n",
       "      <td>0.135986</td>\n",
       "    </tr>\n",
       "    <tr>\n",
       "      <th>5716</th>\n",
       "      <td>The Point of Regret</td>\n",
       "      <td>Yorkshire, 1978. A mother, father and their th...</td>\n",
       "      <td>0.132588</td>\n",
       "    </tr>\n",
       "    <tr>\n",
       "      <th>3754</th>\n",
       "      <td>Bumping Into Broadway</td>\n",
       "      <td>A young playwright spends his last cent to pay...</td>\n",
       "      <td>0.130333</td>\n",
       "    </tr>\n",
       "    <tr>\n",
       "      <th>967</th>\n",
       "      <td>Delivery</td>\n",
       "      <td>Bill's fifty-two years old, has a mountain man...</td>\n",
       "      <td>0.129520</td>\n",
       "    </tr>\n",
       "    <tr>\n",
       "      <th>4340</th>\n",
       "      <td>Jeff Garlin: Our Man in Chicago</td>\n",
       "      <td>Comedian Jeff Garlin (unintentionally) celebra...</td>\n",
       "      <td>0.123838</td>\n",
       "    </tr>\n",
       "    <tr>\n",
       "      <th>1245</th>\n",
       "      <td>Salt N' Pepper</td>\n",
       "      <td>Kalidasan, a foodie, receives a phone call not...</td>\n",
       "      <td>0.122850</td>\n",
       "    </tr>\n",
       "    <tr>\n",
       "      <th>7415</th>\n",
       "      <td>In the Forest of Huckybucky</td>\n",
       "      <td>In the woods there lives a mouse and his frien...</td>\n",
       "      <td>0.120066</td>\n",
       "    </tr>\n",
       "    <tr>\n",
       "      <th>4454</th>\n",
       "      <td>Solanin</td>\n",
       "      <td>Meiko Inoue is a recent college grad working a...</td>\n",
       "      <td>0.118803</td>\n",
       "    </tr>\n",
       "    <tr>\n",
       "      <th>3129</th>\n",
       "      <td>Awake</td>\n",
       "      <td>A young couple struggles to cope when their so...</td>\n",
       "      <td>0.118543</td>\n",
       "    </tr>\n",
       "    <tr>\n",
       "      <th>2111</th>\n",
       "      <td>Marco's Oriental Noodles</td>\n",
       "      <td>A futuristic noodle shop in small-town Saskatc...</td>\n",
       "      <td>0.118466</td>\n",
       "    </tr>\n",
       "    <tr>\n",
       "      <th>6181</th>\n",
       "      <td>My Mother</td>\n",
       "      <td>Following the death of his mother, 9-year-old ...</td>\n",
       "      <td>0.115777</td>\n",
       "    </tr>\n",
       "    <tr>\n",
       "      <th>2247</th>\n",
       "      <td>Who Are You?</td>\n",
       "      <td>Nida (Sinjai Plengpanich) is a single mother w...</td>\n",
       "      <td>0.114189</td>\n",
       "    </tr>\n",
       "    <tr>\n",
       "      <th>1594</th>\n",
       "      <td>Mohalla Assi</td>\n",
       "      <td>An idealist Sanskrit teacher deals with issues...</td>\n",
       "      <td>0.111227</td>\n",
       "    </tr>\n",
       "  </tbody>\n",
       "</table>\n",
       "</div>"
      ],
      "text/plain": [
       "                          movie_title  \\\n",
       "297                               Fat   \n",
       "3683                  Our Daily Bread   \n",
       "6965                           10 Min   \n",
       "2766                    Mixed Doubles   \n",
       "3055             I Pay for Your Story   \n",
       "2193           Suffer Little Children   \n",
       "4549                   I'll Be Around   \n",
       "6970               The Fighting 69½th   \n",
       "2435                     Now You Know   \n",
       "1838                  Table for Three   \n",
       "4480                          On Hold   \n",
       "3208                     We Die Young   \n",
       "2811                  Today's Special   \n",
       "5716              The Point of Regret   \n",
       "3754            Bumping Into Broadway   \n",
       "967                          Delivery   \n",
       "4340  Jeff Garlin: Our Man in Chicago   \n",
       "1245                   Salt N' Pepper   \n",
       "7415      In the Forest of Huckybucky   \n",
       "4454                          Solanin   \n",
       "3129                            Awake   \n",
       "2111         Marco's Oriental Noodles   \n",
       "6181                        My Mother   \n",
       "2247                     Who Are You?   \n",
       "1594                     Mohalla Assi   \n",
       "\n",
       "                                               overview  similarity  \n",
       "297   Ken is a man that won't change his ways. Addic...    0.174713  \n",
       "3683  Welcome to the world of industrial food produc...    0.170858  \n",
       "6965                                                NaN    0.170105  \n",
       "2766  To get revenge on her ex-boyfriend and to help...    0.158116  \n",
       "3055  Lech Kowalski returns to Utica (New York), whe...    0.154484  \n",
       "2193  This short documentary is part of the Canada C...    0.151112  \n",
       "4549  A 30-something single mother must find adoptiv...    0.150154  \n",
       "6970  Battalions of red and black ants go to war ove...    0.145151  \n",
       "2435  An uninhibited 10 year old girl discovers hars...    0.141774  \n",
       "1838  A suddenly single guy invites what he thinks i...    0.141770  \n",
       "4480  A short film musical about the choice between ...    0.140267  \n",
       "3208  Lucas, a 14-year-old boy inducted into the gan...    0.137315  \n",
       "2811  Young Manhattan chef Samir rediscovers his her...    0.135986  \n",
       "5716  Yorkshire, 1978. A mother, father and their th...    0.132588  \n",
       "3754  A young playwright spends his last cent to pay...    0.130333  \n",
       "967   Bill's fifty-two years old, has a mountain man...    0.129520  \n",
       "4340  Comedian Jeff Garlin (unintentionally) celebra...    0.123838  \n",
       "1245  Kalidasan, a foodie, receives a phone call not...    0.122850  \n",
       "7415  In the woods there lives a mouse and his frien...    0.120066  \n",
       "4454  Meiko Inoue is a recent college grad working a...    0.118803  \n",
       "3129  A young couple struggles to cope when their so...    0.118543  \n",
       "2111  A futuristic noodle shop in small-town Saskatc...    0.118466  \n",
       "6181  Following the death of his mother, 9-year-old ...    0.115777  \n",
       "2247  Nida (Sinjai Plengpanich) is a single mother w...    0.114189  \n",
       "1594  An idealist Sanskrit teacher deals with issues...    0.111227  "
      ]
     },
     "execution_count": 322,
     "metadata": {},
     "output_type": "execute_result"
    }
   ],
   "source": [
    "recommended_movies = recommend_movies('The War Speeds Up')\n",
    "recommended_movies.reset_index()\n",
    "recommended_movies"
   ]
  }
 ],
 "metadata": {
  "kernelspec": {
   "display_name": "Python 3",
   "language": "python",
   "name": "python3"
  },
  "language_info": {
   "codemirror_mode": {
    "name": "ipython",
    "version": 3
   },
   "file_extension": ".py",
   "mimetype": "text/x-python",
   "name": "python",
   "nbconvert_exporter": "python",
   "pygments_lexer": "ipython3",
   "version": "3.12.4"
  }
 },
 "nbformat": 4,
 "nbformat_minor": 2
}
