{
 "cells": [
  {
   "cell_type": "code",
   "execution_count": 22,
   "metadata": {},
   "outputs": [],
   "source": [
    "import pandas as pd\n",
    "import numpy as np\n",
    "from sklearn.metrics.pairwise import cosine_similarity\n",
    "from sklearn.feature_extraction.text import TfidfVectorizer\n",
    "from ast import literal_eval"
   ]
  },
  {
   "cell_type": "code",
   "execution_count": null,
   "metadata": {},
   "outputs": [],
   "source": [
    "movies = pd.read_csv('./data/movies.csv')\n",
    "ratings = pd.read_csv('./data/ratings.csv')"
   ]
  },
  {
   "cell_type": "code",
   "execution_count": 24,
   "metadata": {},
   "outputs": [],
   "source": [
    "user_item_matrix = ratings.pivot_table(index='user_id', columns='movie_id', values='rating_val')\n",
    "\n",
    "user_item_matrix.fillna(0, inplace=True)\n",
    "\n",
    "item_similarity = cosine_similarity(user_item_matrix.T)  # Transpose to get item-based similarity\n",
    "item_similarity_df = pd.DataFrame(item_similarity, index=user_item_matrix.columns, columns=user_item_matrix.columns)"
   ]
  },
  {
   "cell_type": "code",
   "execution_count": 25,
   "metadata": {},
   "outputs": [],
   "source": [
    "def safe_literal_eval(x):\n",
    "    try:\n",
    "        return literal_eval(x)\n",
    "    except (ValueError, SyntaxError):\n",
    "        return []  "
   ]
  },
  {
   "cell_type": "code",
   "execution_count": 26,
   "metadata": {},
   "outputs": [
    {
     "name": "stdout",
     "output_type": "stream",
     "text": [
      "                                 movie_title  \\\n",
      "0                           The Adam Project   \n",
      "1                Venom: Let There Be Carnage   \n",
      "2                                 Red Notice   \n",
      "3  Shang-Chi and the Legend of the Ten Rings   \n",
      "4                                 Blacklight   \n",
      "\n",
      "                                                soup  \n",
      "0   The Adam Project  After accidentally crash-la...  \n",
      "1   Venom: Let There Be Carnage  After finding a ...  \n",
      "2   Red Notice  An Interpol-issued Red Notice is ...  \n",
      "3   Shang-Chi and the Legend of the Ten Rings  Sh...  \n",
      "4   Blacklight  Travis Block is a shadowy Governm...  \n"
     ]
    }
   ],
   "source": [
    "def create_soup(x):\n",
    "    movie_title = str(x[\"movie_title\"]) if pd.notna(x[\"movie_title\"]) else \"\"\n",
    "    genres = ' '.join(str(genre) for genre in x[\"genres\"]) if isinstance(x[\"genres\"], list) else \"\"\n",
    "    overview = str(x[\"overview\"]) if pd.notna(x[\"overview\"]) else \"\"\n",
    "    \n",
    "    return \" \" + movie_title + \" \" + genres + \" \" + overview\n",
    "\n",
    "movies[\"soup\"] = movies.apply(create_soup, axis=1)\n",
    "print(movies[[\"movie_title\", \"soup\"]].head())"
   ]
  },
  {
   "cell_type": "code",
   "execution_count": 27,
   "metadata": {},
   "outputs": [],
   "source": [
    "vectorizer = TfidfVectorizer(stop_words='english')\n",
    "matrix = vectorizer.fit_transform(movies[\"soup\"])"
   ]
  },
  {
   "cell_type": "code",
   "execution_count": 28,
   "metadata": {},
   "outputs": [],
   "source": [
    "content_sim = cosine_similarity(matrix, matrix)"
   ]
  },
  {
   "cell_type": "code",
   "execution_count": 29,
   "metadata": {},
   "outputs": [],
   "source": [
    "movie_ids_user_item = user_item_matrix.columns  # Movie IDs from the user-item matrix (user-item matrix columns)\n",
    "movie_ids_movies = movies['movie_id'].values  # Movie IDs from the movies dataframe\n",
    "\n",
    "# Ensure the order of movies matches between both similarity matrices\n",
    "# Align the movie IDs in both matrices (content-based and collaborative)\n",
    "content_sim_df = pd.DataFrame(content_sim, index=movie_ids_movies, columns=movie_ids_movies)\n",
    "collab_sim_df = item_similarity_df.loc[movie_ids_user_item, movie_ids_user_item]  # Align the rows and columns with the movie IDs\n",
    "\n",
    "# Convert the similarity matrices to numpy arrays\n",
    "content_sim = np.array(content_sim_df)\n",
    "collab_sim = np.array(collab_sim_df)"
   ]
  },
  {
   "cell_type": "code",
   "execution_count": 34,
   "metadata": {},
   "outputs": [],
   "source": [
    "movie_titles_dict = dict(zip(movies['movie_id'], movies['movie_title']))"
   ]
  },
  {
   "cell_type": "code",
   "execution_count": 39,
   "metadata": {},
   "outputs": [],
   "source": [
    "def predict_ratings(user_name, collab_sim, content_sim, user_item_matrix, movie_ids, top_n=10, alpha=0.5):\n",
    "    user_ratings = user_item_matrix.loc[user_name]  # User's ratings\n",
    "    rated_items = user_ratings[user_ratings > 0].index  # Items the user has rated\n",
    "    predictions = {}\n",
    "\n",
    "    # Map movie ID to its index in the similarity matrices\n",
    "    movie_id_to_index = {movie_id: index for index, movie_id in enumerate(movie_ids)}\n",
    "\n",
    "    for movie_id in movie_ids:  # Iterate over all movie IDs\n",
    "        if movie_id not in rated_items:  # Only predict for unrated items\n",
    "            # Get the index of the current movie_id\n",
    "            movie_index = movie_id_to_index[movie_id]\n",
    "\n",
    "            # Collaborative prediction (weighted by collaborative similarity)\n",
    "            collab_sim_scores = collab_sim[movie_index, [movie_id_to_index[rated_item] for rated_item in rated_items]]\n",
    "            collab_pred_rating = np.dot(collab_sim_scores, user_ratings[rated_items]) / np.sum(collab_sim_scores) if np.sum(collab_sim_scores) != 0 else 0\n",
    "\n",
    "            # Content-based prediction (weighted by content similarity)\n",
    "            content_sim_scores = content_sim[movie_index, [movie_id_to_index[rated_item] for rated_item in rated_items]]\n",
    "            content_pred_rating = np.dot(content_sim_scores, user_ratings[rated_items]) / np.sum(content_sim_scores) if np.sum(content_sim_scores) != 0 else 0\n",
    "\n",
    "            # Weighted average of collaborative and content-based predictions\n",
    "            weighted_pred_rating = alpha * collab_pred_rating + (1 - alpha) * content_pred_rating\n",
    "\n",
    "            predictions[movie_titles_dict[movie_id]] = weighted_pred_rating\n",
    "\n",
    "    # Sort the predictions and return the top_n items\n",
    "    top_predictions = sorted(predictions.items(), key=lambda x: x[1], reverse=True)[:top_n]\n",
    "    \n",
    "    return top_predictions"
   ]
  },
  {
   "cell_type": "code",
   "execution_count": 40,
   "metadata": {},
   "outputs": [
    {
     "name": "stdout",
     "output_type": "stream",
     "text": [
      "Top 10 recommended movies for user 007filmreviwer:\n",
      "Pinocchio ========= Predicted Rating: 6.00\n",
      "The Predator ========= Predicted Rating: 6.00\n",
      "Afterlife of the Party ========= Predicted Rating: 6.00\n",
      "Texas Chainsaw 3D ========= Predicted Rating: 6.00\n",
      "Justice League: The Flashpoint Paradox ========= Predicted Rating: 6.00\n",
      "The Village ========= Predicted Rating: 5.91\n",
      "War Dogs ========= Predicted Rating: 5.89\n",
      "Iron Mask ========= Predicted Rating: 5.85\n",
      "Vampire Hunter D: Bloodlust ========= Predicted Rating: 5.82\n",
      "Mighty Morphin Power Rangers: The Movie ========= Predicted Rating: 5.70\n"
     ]
    }
   ],
   "source": [
    "# Example: Get the top 10 recommendations for user 0 with alpha = 0.5 (equal weight)\n",
    "user_name = \"007filmreviwer\"\n",
    "recommendations = predict_ratings(user_name, collab_sim, content_sim,user_item_matrix,movie_ids_movies,top_n=10, alpha=0.5)\n",
    "\n",
    "# Print the recommendations\n",
    "print(f\"Top 10 recommended movies for user {user_name}:\")\n",
    "for movie_id, predicted_rating in recommendations:\n",
    "    print(f\"{movie_id} ========= Predicted Rating: {predicted_rating:.2f}\") "
   ]
  }
 ],
 "metadata": {
  "kernelspec": {
   "display_name": "Python 3",
   "language": "python",
   "name": "python3"
  },
  "language_info": {
   "codemirror_mode": {
    "name": "ipython",
    "version": 3
   },
   "file_extension": ".py",
   "mimetype": "text/x-python",
   "name": "python",
   "nbconvert_exporter": "python",
   "pygments_lexer": "ipython3",
   "version": "3.12.7"
  }
 },
 "nbformat": 4,
 "nbformat_minor": 2
}
